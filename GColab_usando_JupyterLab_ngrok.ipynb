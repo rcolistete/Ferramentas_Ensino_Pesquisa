{
  "nbformat": 4,
  "nbformat_minor": 0,
  "metadata": {
    "colab": {
      "name": "GColab_usando_JupyterLab_ngrok.ipynb",
      "provenance": [],
      "collapsed_sections": []
    },
    "kernelspec": {
      "display_name": "Python 3 (ipykernel)",
      "language": "python",
      "name": "python3"
    },
    "language_info": {
      "codemirror_mode": {
        "name": "ipython",
        "version": 3
      },
      "file_extension": ".py",
      "mimetype": "text/x-python",
      "name": "python",
      "nbconvert_exporter": "python",
      "pygments_lexer": "ipython3",
      "version": "3.8.11"
    }
  },
  "cells": [
    {
      "cell_type": "markdown",
      "metadata": {
        "id": "e_EA6ruOCXVg"
      },
      "source": [
        "# Google Colab usando JupyterLab/Jupyter Notebook e ngrok\n",
        "\n",
        "### Autoria : [Roberto Colistete Jr.](https://github.com/rcolistete)\n",
        "#### Última atualização : 08/11/2021"
      ]
    },
    {
      "cell_type": "markdown",
      "metadata": {
        "id": "e5MhokK41HoZ"
      },
      "source": [
        "### Objetivo\n",
        "Usar sessão do [Google Colab](https://colab.research.google.com) ([Free/Pro/Pro+](https://colab.research.google.com/signup/pricing) com interface do [JupyterLab ou Jupyter Notebook](https://jupyter.org/)."
      ]
    },
    {
      "cell_type": "markdown",
      "metadata": {
        "id": "PdQix1xH1Hoa"
      },
      "source": [
        "### Como ?\n",
        "Para tanto precisa rodar esse notebook no Google Colab e seguir as instruções abaixo.\n",
        "\n",
        "Só na 1a vez que precisa configurar (criar conta no ngrok e colar o ngrok Authtoken), depois bastará somente rodar esse notebook e digitar a senha do Jupyter Server 2 vezes.\n",
        "\n",
        "Escolha rodar JupyterLab ou Jupyter Notebook comentando/descomentando as partes indicadas abaixo. O default é rodar JupyterLab."
      ]
    },
    {
      "cell_type": "markdown",
      "metadata": {
        "id": "ReBBufzSoKxq"
      },
      "source": [
        "### Alternativas com ngrok\n",
        "\n",
        "Se quiser usar somente JupyterLab, vide o outro guia \"Google Colab usando JupyterLab e ColabCode\", que tem código mais simples a ser executado."
      ]
    },
    {
      "cell_type": "markdown",
      "metadata": {
        "id": "WnpYj3KLolU7"
      },
      "source": [
        "### Links sobre Google Colab com ngrok\n",
        "\n",
        "- [repositório GitHub do pyngrok](https://github.com/alexdlaird/pyngrok);\n",
        "- [How To Collaborate On Your Locally Hosted Jupyter Notebook - Kurtis Pykes - \n",
        "Aug 16, 2020](https://towardsdatascience.com/how-to-collaborate-on-your-locally-hosted-jupyter-notebook-28e0dcd8aeca), sobre uso de ngrok com Jupyter Notebook sendo acessado externamente;\n",
        "- [How to Share your Jupyter Notebook in 3 Lines of Code with Ngrok - Khuyen Tran - Mar 29, 2020](https://towardsdatascience.com/how-to-share-your-jupyter-notebook-in-3-lines-of-code-with-ngrok-bfe1495a9c0c)."
      ]
    },
    {
      "cell_type": "markdown",
      "metadata": {
        "id": "Yaby56sXClRJ"
      },
      "source": [
        "### Passos\n",
        "- crie conta gratuita no [site ngrok](https://ngrok.com/);\n",
        "- após login no ngrok, acesse o [dashboard do mesmo](https://dashboard.ngrok.com/get-started/setup);\n",
        "- clique em \"Getting Started -> Your Authtoken\", copie o código e guarde."
      ]
    },
    {
      "cell_type": "markdown",
      "metadata": {
        "id": "8R93-mQzD4v2"
      },
      "source": [
        "[Instale JupyterLab/Jupyter Notebook/Jupyter Server](https://jupyter.org/install) se não estiver instalado. No Google Colab já vem instalado Jupyter Notebook, mas não o JupyterLab e Jupyter Server. Fora do Google Colab é recomendado instalar via [Anaconda](https://www.anaconda.com/products/individual#Downloads) ou via pip :"
      ]
    },
    {
      "cell_type": "code",
      "metadata": {
        "id": "XX0_FPatMiwS"
      },
      "source": [
        "#!pip install notebook  # não precisa instalar no Google Colab"
      ],
      "execution_count": null,
      "outputs": []
    },
    {
      "cell_type": "code",
      "metadata": {
        "id": "ApYthC7vWyD6"
      },
      "source": [
        "#!pip install jupyter-server  # precisa instalar no Google Colab se for usar Jupyter Notebook "
      ],
      "execution_count": null,
      "outputs": []
    },
    {
      "cell_type": "code",
      "metadata": {
        "id": "DOtYtMQZVh2e"
      },
      "source": [
        "!pip install jupyterlab  # precisa instalar no Google Colab se for usar JupyterLab, também instala Jupyter Server"
      ],
      "execution_count": null,
      "outputs": []
    },
    {
      "cell_type": "markdown",
      "metadata": {
        "id": "61WZfi7hD_G8"
      },
      "source": [
        "Instale módulo pyngrok se não estiver instalado. Versão 4.1.1 funciona bem no Google Colab (exceto definição de `region`), enquanto que versão mais recente atualmente pode dar conflito de dependência :"
      ]
    },
    {
      "cell_type": "code",
      "metadata": {
        "id": "-L7lyteaGXNh"
      },
      "source": [
        "!pip install pyngrok"
      ],
      "execution_count": null,
      "outputs": []
    },
    {
      "cell_type": "code",
      "metadata": {
        "id": "50SeKPrwWbYs"
      },
      "source": [
        "#!pip install pyngrok==4.1.1"
      ],
      "execution_count": null,
      "outputs": []
    },
    {
      "cell_type": "markdown",
      "metadata": {
        "id": "V_TbVnwWCTNS"
      },
      "source": [
        "Configurar JupyterLab/JupyterNotebook para acesso remoto via senha. Outra opção seria token criado automaticamente, mas rodando servidor JupyterLab/Jupyter Notebook de dentro do Jupyter Notebook do Google Colab não mostra as mensagens de terminal em que o token é exibido (opção seria rodar no terminal do Google Colab Pro/Pro+, o que é limitador)."
      ]
    },
    {
      "cell_type": "code",
      "metadata": {
        "id": "ewjx6W6cE2f8"
      },
      "source": [
        "!jupyter server --generate-config -y"
      ],
      "execution_count": null,
      "outputs": []
    },
    {
      "cell_type": "markdown",
      "metadata": {
        "id": "JUGPRf5HIAFD"
      },
      "source": [
        "Note que tem que digitar a senha à direita do campo \"Enter password:\" e \"Verify password:\". **Só essa parte que precisa ser refeita interativamente toda vez que roda esse notebook**. Essa senha será depois usada para acessar o JupyterLab/Jupyter Notebook."
      ]
    },
    {
      "cell_type": "code",
      "metadata": {
        "id": "iAw5hMz-FLSa"
      },
      "source": [
        "!jupyter server password"
      ],
      "execution_count": null,
      "outputs": []
    },
    {
      "cell_type": "markdown",
      "metadata": {
        "id": "5nJ-75-gILH9"
      },
      "source": [
        "Deixa rodando em background o servidor JupyterLab/Jupyter Notebook (comente um deles, o que não quiser), vai ficar rodando no Google Colab enquanto essa sessão estiver aberta :\n"
      ]
    },
    {
      "cell_type": "code",
      "metadata": {
        "id": "l-OOMnS3MBQQ"
      },
      "source": [
        "#!nohup jupyter notebook --ip=0.0.0.0 --allow-root --no-browser &"
      ],
      "execution_count": null,
      "outputs": []
    },
    {
      "cell_type": "code",
      "metadata": {
        "id": "V9qYAbvsVoK0"
      },
      "source": [
        "!nohup jupyter lab --ip=0.0.0.0 --allow-root --no-browser &"
      ],
      "execution_count": null,
      "outputs": []
    },
    {
      "cell_type": "markdown",
      "metadata": {
        "id": "ao6pRPjSNIjc"
      },
      "source": [
        "Configure o ngrok com o seu Authtoken (tire `<Authtoken>` e coloque o seu Authtoken) :"
      ]
    },
    {
      "cell_type": "code",
      "metadata": {
        "id": "A02f3WuQWtV-"
      },
      "source": [
        "!ngrok authtoken <Authtoken>"
      ],
      "execution_count": null,
      "outputs": []
    },
    {
      "cell_type": "markdown",
      "metadata": {
        "id": "E-O5mbvSNWwc"
      },
      "source": [
        "Importa e roda o ngrok via Python gerando um túnel para acesso remoto à interface HTTP porta 8888, que é usada por JupyterLab/Jupyter Notebook.\n",
        "\n",
        "Tem opção de escolher a [região usada pelo ngrok](https://ngrok.com/docs#global-locations) (default é 'us'), por exemplo 'sa' é 'South America', que vale à pena ser usada caso o servidor do Google Colab e o usuário estejam na América do Sul."
      ]
    },
    {
      "cell_type": "code",
      "metadata": {
        "id": "95dM0gQdVtdA"
      },
      "source": [
        "from pyngrok import conf, ngrok"
      ],
      "execution_count": null,
      "outputs": []
    },
    {
      "cell_type": "code",
      "metadata": {
        "id": "x5NIVbH57mqn"
      },
      "source": [
        "#conf.get_default().region = \"sa\""
      ],
      "execution_count": null,
      "outputs": []
    },
    {
      "cell_type": "code",
      "metadata": {
        "id": "TmKPvz4zeGW0"
      },
      "source": [
        "print(ngrok.connect(8888))"
      ],
      "execution_count": null,
      "outputs": []
    },
    {
      "cell_type": "markdown",
      "metadata": {
        "id": "Je7ALTzmswbq"
      },
      "source": [
        "Configurando o Google Drive para aparecer montado em \"/drive/MyDrive/\" :"
      ]
    },
    {
      "cell_type": "code",
      "metadata": {
        "id": "aTl9hyv5A0_q"
      },
      "source": [
        "if 'google.colab' in str(get_ipython()):\n",
        "  from google.colab import drive\n",
        "  drive.mount('/content/drive')"
      ],
      "execution_count": null,
      "outputs": []
    },
    {
      "cell_type": "markdown",
      "metadata": {
        "id": "ClU6IaV6tEkq"
      },
      "source": [
        "Basta clicar no link gerado pelo comando acima (que começa com https:// e termina com .ngrok.io) para :\n",
        "- ser aberta uma aba no navegador web pedindo a senha escolhida antes (ao rodar jupyter server password);\n",
        "- depois mostrar o JupyterLab/Jupyter Notebook na aba do navegador web do seu computador local;\n",
        "- o Google Drive aparece montado em \"/drive/MyDrive/\", tal que a sugestão é navegar dentro dele para já criar novos notebooks dentro do Google Drive pois ficam salvos permanentemente;\n",
        "- evite salvar notebooks em \"/\" pois fica na área home da VM (Virtual Machine) do Google Colab, mas essa área é destruída ao encerrar a sessão do Google Colab.\n",
        "\n",
        "Pronto, agora você tem Google Colab com interface JupyterLab/Jupyter Notebook  !"
      ]
    }
  ]
}