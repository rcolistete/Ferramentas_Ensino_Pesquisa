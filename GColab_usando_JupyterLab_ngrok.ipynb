{
 "cells": [
  {
   "cell_type": "markdown",
   "metadata": {
    "id": "e_EA6ruOCXVg"
   },
   "source": [
    "# Google Colab/etc usando Jupyter Lab/Notebook e ngrok\n",
    "\n",
    "### Autoria : [Roberto Colistete Jr.](https://github.com/rcolistete)\n",
    "#### Última atualização : 07/11/2021"
   ]
  },
  {
   "cell_type": "markdown",
   "metadata": {},
   "source": [
    "### Objetivo\n",
    "Usar sessão do Google Colab (Free/Pro/Pro+) com interface do Jupyter Lab ou Jupyter Notebook."
   ]
  },
  {
   "cell_type": "markdown",
   "metadata": {},
   "source": [
    "### Como ?\n",
    "Para tanto precisa rodar esse notebook no Google Colab e seguir as instruções abaixo.\n",
    "\n",
    "Só na 1a vez que precisa configurar (criar conta no ngrok e colar o ngrok Authtoken), depois bastará somente rodar esse notebook e digitar a senha do Jupyter Server 2 vezes.\n",
    "\n",
    "Escolha rodar Jupyter Lab ou Jupyter Notebook comentando/descomentando as partes indicadas abaixo. O default é rodar Jupyter Lab."
   ]
  },
  {
   "cell_type": "markdown",
   "metadata": {
    "id": "Yaby56sXClRJ"
   },
   "source": [
    "### Passos\n",
    "- crie conta gratuita no [site ngrok](https://ngrok.com/);\n",
    "- após login no ngrok, acesse o [dashboard do mesmo](https://dashboard.ngrok.com/get-started/setup);\n",
    "- clique em \"Getting Started -> Your Authtoken\", copie o código e guarde."
   ]
  },
  {
   "cell_type": "markdown",
   "metadata": {
    "id": "8R93-mQzD4v2"
   },
   "source": [
    "[Instale Jupyter Lab/Notebook/Server](https://jupyter.org/install) se não estiver instalado. No Google Colab já vem instalado Jupyter Notebook, mas não o Jupyter Lab e Jupyter Server. Fora do Google Colab é recomendado instalar via [Anaconda](https://www.anaconda.com/products/individual#Downloads) ou via pip :"
   ]
  },
  {
   "cell_type": "code",
   "execution_count": null,
   "metadata": {
    "id": "XX0_FPatMiwS"
   },
   "outputs": [],
   "source": [
    "#!pip install notebook  # não precisa instalar no Google Colab"
   ]
  },
  {
   "cell_type": "code",
   "execution_count": null,
   "metadata": {
    "id": "ApYthC7vWyD6"
   },
   "outputs": [],
   "source": [
    "#!pip install jupyter-server  # precisa instalar no Google Colab se for usar Jupyter Notebook "
   ]
  },
  {
   "cell_type": "code",
   "execution_count": null,
   "metadata": {
    "id": "DOtYtMQZVh2e"
   },
   "outputs": [],
   "source": [
    "!pip install jupyterlab  # precisa instalar no Google Colab se for usar Jupyter Lab, também instala Jupyter Server"
   ]
  },
  {
   "cell_type": "markdown",
   "metadata": {
    "id": "61WZfi7hD_G8"
   },
   "source": [
    "Instale módulo pyngrok se não estiver instalado. Versão 4.1.1 funciona bem no Google Colab, enquanto que versão mais recente atualmente dá conflito de dependência :"
   ]
  },
  {
   "cell_type": "code",
   "execution_count": null,
   "metadata": {
    "id": "-L7lyteaGXNh"
   },
   "outputs": [],
   "source": [
    "#!pip install pyngrok"
   ]
  },
  {
   "cell_type": "code",
   "execution_count": null,
   "metadata": {
    "id": "50SeKPrwWbYs"
   },
   "outputs": [],
   "source": [
    "!pip install pyngrok==4.1.1"
   ]
  },
  {
   "cell_type": "markdown",
   "metadata": {
    "id": "V_TbVnwWCTNS"
   },
   "source": [
    "Configurar Jupyter Lab/Notebook para acesso remoto via senha. Outra opção seria token criado automaticamente, mas rodando servidor Jupyter Lab/Notebook de dentro do Jupyter Notebook do Google Colab não mostra as mensagens de terminal em que o token é exibido (opção seria rodar no terminal do Google Colab Pro/Pro+, o que é limitador)."
   ]
  },
  {
   "cell_type": "code",
   "execution_count": null,
   "metadata": {
    "id": "ewjx6W6cE2f8"
   },
   "outputs": [],
   "source": [
    "!jupyter server --generate-config -y"
   ]
  },
  {
   "cell_type": "markdown",
   "metadata": {
    "id": "JUGPRf5HIAFD"
   },
   "source": [
    "Note que tem que digitar a senha à direita do campo \"Enter password:\" e \"Verify password:\". **Só essa parte que precisa ser refeita interativamente toda vez que roda esse notebook**. Essa senha será depois usada para acessar o Jupyter Lab/Notebook."
   ]
  },
  {
   "cell_type": "code",
   "execution_count": null,
   "metadata": {
    "id": "iAw5hMz-FLSa"
   },
   "outputs": [],
   "source": [
    "!jupyter server password"
   ]
  },
  {
   "cell_type": "markdown",
   "metadata": {
    "id": "5nJ-75-gILH9"
   },
   "source": [
    "Deixa rodando em background o servidor Jupyter Lab/Notebook (comente um deles, o que não quiser), vai ficar rodando no Google Colab enquanto essa sessão estiver aberta :\n"
   ]
  },
  {
   "cell_type": "code",
   "execution_count": null,
   "metadata": {
    "id": "l-OOMnS3MBQQ"
   },
   "outputs": [],
   "source": [
    "#!nohup jupyter notebook --ip=0.0.0.0 --allow-root --no-browser &"
   ]
  },
  {
   "cell_type": "code",
   "execution_count": null,
   "metadata": {
    "id": "V9qYAbvsVoK0"
   },
   "outputs": [],
   "source": [
    "!nohup jupyter lab --ip=0.0.0.0 --allow-root --no-browser &"
   ]
  },
  {
   "cell_type": "markdown",
   "metadata": {
    "id": "ao6pRPjSNIjc"
   },
   "source": [
    "Configure o ngrok com o seu Authtoken (tire <Authtoken> e coloque o seu Authtoken) :"
   ]
  },
  {
   "cell_type": "code",
   "execution_count": null,
   "metadata": {
    "id": "A02f3WuQWtV-"
   },
   "outputs": [],
   "source": [
    "!ngrok authtoken <Authtoken>"
   ]
  },
  {
   "cell_type": "markdown",
   "metadata": {
    "id": "E-O5mbvSNWwc"
   },
   "source": [
    "Importa e roda o ngrok via Python gerando um túnel para acesso remoto à interface HTTP porta 8888, que é usada por Jupyter Lab/Notebook."
   ]
  },
  {
   "cell_type": "code",
   "execution_count": null,
   "metadata": {
    "id": "95dM0gQdVtdA"
   },
   "outputs": [],
   "source": [
    "from pyngrok import ngrok"
   ]
  },
  {
   "cell_type": "code",
   "execution_count": null,
   "metadata": {
    "id": "TmKPvz4zeGW0"
   },
   "outputs": [],
   "source": [
    "print(ngrok.connect(8888))"
   ]
  },
  {
   "cell_type": "markdown",
   "metadata": {
    "id": "o2DOnB--Nngj"
   },
   "source": [
    "Basta clicar no link gerado pelo comando acima (que começa com http:// e termina com .ngrok.io) para :\n",
    "- ser aberta uma aba no navegador web pedindo a senha escolhida antes (ao rodar `jupyter server password`);\n",
    "- depois mostrar o Jupyter Lab/Notebook na aba do navegador web do seu computador local !\n",
    "\n",
    "Pronto, agora você tem Google Colab com interface Jupyter Lab/Notebook ! 8-)"
   ]
  }
 ],
 "metadata": {
  "accelerator": "GPU",
  "colab": {
   "collapsed_sections": [],
   "machine_shape": "hm",
   "name": "JupyterLab_ngrok.ipynb",
   "provenance": []
  },
  "kernelspec": {
   "display_name": "Python 3 (ipykernel)",
   "language": "python",
   "name": "python3"
  },
  "language_info": {
   "codemirror_mode": {
    "name": "ipython",
    "version": 3
   },
   "file_extension": ".py",
   "mimetype": "text/x-python",
   "name": "python",
   "nbconvert_exporter": "python",
   "pygments_lexer": "ipython3",
   "version": "3.8.11"
  }
 },
 "nbformat": 4,
 "nbformat_minor": 1
}
