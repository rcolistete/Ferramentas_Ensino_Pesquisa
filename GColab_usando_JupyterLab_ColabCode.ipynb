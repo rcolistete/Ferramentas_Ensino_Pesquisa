{
  "nbformat": 4,
  "nbformat_minor": 0,
  "metadata": {
    "colab": {
      "name": "GColab_usando_JupyterLab_ColabCode.ipynb",
      "provenance": [],
      "collapsed_sections": []
    },
    "kernelspec": {
      "display_name": "Python 3 (ipykernel)",
      "language": "python",
      "name": "python3"
    },
    "language_info": {
      "codemirror_mode": {
        "name": "ipython",
        "version": 3
      },
      "file_extension": ".py",
      "mimetype": "text/x-python",
      "name": "python",
      "nbconvert_exporter": "python",
      "pygments_lexer": "ipython3",
      "version": "3.8.11"
    },
    "accelerator": "GPU"
  },
  "cells": [
    {
      "cell_type": "markdown",
      "metadata": {
        "id": "e_EA6ruOCXVg"
      },
      "source": [
        "# Google Colab usando JupyterLab e ColabCode\n",
        "\n",
        "### Autoria : [Roberto Colistete Jr.](https://github.com/rcolistete)\n",
        "#### Última atualização : 08/11/2021"
      ]
    },
    {
      "cell_type": "markdown",
      "metadata": {
        "id": "e5MhokK41HoZ"
      },
      "source": [
        "### Objetivo\n",
        "Usar sessão do [Google Colab](https://colab.research.google.com) ([Free/Pro/Pro+](https://colab.research.google.com/signup/pricing)) com interface do [JupyterLab](https://jupyter.org/)."
      ]
    },
    {
      "cell_type": "markdown",
      "metadata": {
        "id": "PdQix1xH1Hoa"
      },
      "source": [
        "### Como ?\n",
        "Para tanto precisa rodar esse notebook no Google Colab e seguir as instruções abaixo.\n",
        "\n",
        "ColabCode usa internamente ngrok, JupyterLab, Jupyter Server, etc.\n",
        "\n",
        "Só na 1a vez que precisa configurar (criar conta no ngrok e colar o ngrok Authtoken, caso queira o túnel ngrok durando mais do que algumas horas), depois bastará somente rodar esse notebook."
      ]
    },
    {
      "cell_type": "markdown",
      "metadata": {
        "id": "RXRAZdAqcr6U"
      },
      "source": [
        "### Alternativas com ngrok\n",
        "\n",
        "Se quiser mais opções, vide o outro guia \"Google Colab usando JupyterLab/Jupyter Notebook e ngrok\", permitindo usar JupyterLab, Jupyter Notebook, [regiões no ngrok](https://ngrok.com/docs#global-locations), etc."
      ]
    },
    {
      "cell_type": "markdown",
      "metadata": {
        "id": "H-Bj1fVhh9U1"
      },
      "source": [
        "### Links sobre ColabCode\n",
        "\n",
        "- [repositório GitHub do ColabCode](https://github.com/abhishekkrthakur/colabcode);\n",
        "- [Explained: How To Access JupyterLab On Google Colab - 03/03/2021](https://analyticsindiamag.com/explained-how-to-access-jupyterlab-on-google-colab/), com exemplo simples de uso de Google Colab com JupyterLab via uso de ColabCode;\n",
        "- [ColabCode: Deploying Machine Learning Models From Google Colab\n",
        "Start a VS Code Server, JupyterLab, or FastAPI - Kaustubh Gupta - Feb 4 2021](https://towardsdatascience.com/colabcode-deploying-machine-learning-models-from-google-colab-54e0d37a7b09), com exemplos de uso de Google Colab com ColabCode; \n",
        "- [How To Collaborate On Your Locally Hosted Jupyter Notebook - Kurtis Pykes - \n",
        "Aug 16, 2020](https://towardsdatascience.com/how-to-collaborate-on-your-locally-hosted-jupyter-notebook-28e0dcd8aeca), sobre uso de ngrok com Jupyter Notebook sendo acessado externamente.\n"
      ]
    },
    {
      "cell_type": "markdown",
      "metadata": {
        "id": "Yaby56sXClRJ"
      },
      "source": [
        "### Passos\n",
        "- crie conta (gratuita ou paga) no [site ngrok](https://ngrok.com/);\n",
        "- após login no ngrok, acesse o [dashboard do mesmo](https://dashboard.ngrok.com/get-started/setup);\n",
        "- clique em \"Getting Started -> Your Authtoken\", copie o código e guarde."
      ]
    },
    {
      "cell_type": "markdown",
      "metadata": {
        "id": "8R93-mQzD4v2"
      },
      "source": [
        "[Instala ColabCode](https://github.com/abhishekkrthakur/colabcode) que automaticamente instala JupyterLab, Jupyter Server, pyngrok, etc :"
      ]
    },
    {
      "cell_type": "code",
      "metadata": {
        "id": "Qb_G73EeEyKE"
      },
      "source": [
        "!pip install colabcode"
      ],
      "execution_count": null,
      "outputs": []
    },
    {
      "cell_type": "code",
      "metadata": {
        "id": "03NV5uxMFE1k"
      },
      "source": [
        "from colabcode import ColabCode"
      ],
      "execution_count": null,
      "outputs": []
    },
    {
      "cell_type": "markdown",
      "metadata": {
        "id": "owgyqFEDL5-2"
      },
      "source": [
        "As opções de `ColabCode()` :\n",
        "- JupyterLab é escolhido via opção `lab = True`;\n",
        "- VSCode é desabilitado com opção `code = False`;\n",
        "- Google Drive aparece montado em \"/drive/MyDrive/\" se for usada a opção `mount_drive=True`;\n",
        "- opção `authtoken=\"***\"` (substitua '***' pelo seu ngrok Authtoken de conta gratuita ou paga) permite que [a duração do túnel ngrok seja bem maior (meses) do que 5-8h ao usar ngrok sem conta](https://twitter.com/abhi1thakur/status/1356587034786332674)."
      ]
    },
    {
      "cell_type": "code",
      "metadata": {
        "id": "ki6xezQMZPjJ"
      },
      "source": [
        "ColabCode(code=False, lab=True, mount_drive=True, authtoken=\"***\")"
      ],
      "execution_count": null,
      "outputs": []
    },
    {
      "cell_type": "markdown",
      "metadata": {
        "id": "o2DOnB--Nngj"
      },
      "source": [
        "Basta clicar no link gerado pelo comando acima (que começa com https:// e termina com .ngrok.io) para :\n",
        "- ser aberta uma aba no navegador web pedindo o token JupyterLab (vide na saída acima);\n",
        "- depois mostrar o JupyterLab na aba do navegador web do seu computador local;\n",
        "- o Google Drive aparece montado em \"/drive/MyDrive/\", tal que a sugestão é navegar dentro dele para já criar novos notebooks dentro do Google Drive pois ficam salvos permanentemente;\n",
        "- evite salvar notebooks em \"/\" pois fica na área home da VM (Virtual Machine) do Google Colab, mas essa área é destruída ao encerrar a sessão do Google Colab.\n",
        "\n",
        "Pronto, agora você tem Google Colab com interface JupyterLab !"
      ]
    }
  ]
}
